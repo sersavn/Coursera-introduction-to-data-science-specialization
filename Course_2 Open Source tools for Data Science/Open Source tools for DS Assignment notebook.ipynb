{
 "cells": [
  {
   "cell_type": "markdown",
   "metadata": {
    "collapsed": true
   },
   "source": [
    "# My Jupyter Notebook on IBM Data Science Experience"
   ]
  },
  {
   "cell_type": "markdown",
   "metadata": {},
   "source": [
    "**Rahul Sawhney**\n",
    "___\n",
    "System analyst\n"
   ]
  },
  {
   "cell_type": "markdown",
   "metadata": {},
   "source": [
    "*I am interested in data science because it is fast-growing field, that can be applied to almost any problem*"
   ]
  },
  {
   "cell_type": "markdown",
   "metadata": {},
   "source": [
    "### Code in cell 5 is supposed to perform summation of 2 and 2"
   ]
  },
  {
   "cell_type": "code",
   "execution_count": 5,
   "metadata": {},
   "outputs": [
    {
     "data": {
      "text/plain": [
       "4"
      ]
     },
     "execution_count": 5,
     "metadata": {},
     "output_type": "execute_result"
    }
   ],
   "source": [
    "2+2"
   ]
  },
  {
   "cell_type": "markdown",
   "metadata": {},
   "source": [
    " 1. This\n",
    " 2. is\n",
    " 3. Putin\n",
    "\n",
    "| This | is   |\n",
    "|------|------|\n",
    "|   mr.  | Putin|\n",
    " \n",
    " - ![Better skip it](https://cs4.pikabu.ru/post_img/2014/04/07/11/1396895398_1441551746.jpg)\n",
    " - [about the cat](https://en.wikipedia.org/wiki/Pallas%27s_cat)\n",
    " ___\n"
   ]
  }
 ],
 "metadata": {
  "kernelspec": {
   "display_name": "Python 3",
   "language": "python",
   "name": "python3"
  },
  "language_info": {
   "codemirror_mode": {
    "name": "ipython",
    "version": 3
   },
   "file_extension": ".py",
   "mimetype": "text/x-python",
   "name": "python",
   "nbconvert_exporter": "python",
   "pygments_lexer": "ipython3",
   "version": "3.6.5"
  }
 },
 "nbformat": 4,
 "nbformat_minor": 1
}
